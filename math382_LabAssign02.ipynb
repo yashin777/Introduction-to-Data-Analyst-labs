{
 "cells": [
  {
   "cell_type": "markdown",
   "metadata": {},
   "source": [
    "# MATH 382 - Fall 2021\n",
    "## Scientific Computing\n",
    "Yashin Rodriguez\n",
    "<hr>\n",
    "\n",
    "# Lab Assignment \\#2: Linear Algebra with Numpy\n",
    "\n",
    "<hr>"
   ]
  },
  {
   "cell_type": "markdown",
   "metadata": {},
   "source": [
    "## Goals:\n",
    "<ul>\n",
    "    <li>Familiarization with NumPy procedures to operate with matrices</li>\n",
    "    <li>Construction and manipulation of matrices</li>\n",
    "    <li>Implementation of basic matrix operations</li>\n",
    "    <li>Handling Python Errors and Exceptions</li>\n",
    "    <li>Recursive Functions</li>\n",
    "</ul>"
   ]
  },
  {
   "cell_type": "markdown",
   "metadata": {},
   "source": [
    "## Directions:\n",
    "\n",
    "<ul>\n",
    "    <li>Write your name above.</li>\n",
    "    <li>Solve the following programming problems.</li>\n",
    "    <li>Make sure your code includes a few lines to test its functionality.</li>\n",
    "    <li>After completing all four problems, save your notebook as <tt>math382_LabAssign02_yx.ipynb</tt> (where <tt>x</tt> and <tt>y</tt> stand for your first and last names' initials), and upload your notebook to the assignment submission page.</li>\n",
    "</ul>"
   ]
  },
  {
   "cell_type": "markdown",
   "metadata": {},
   "source": [
    "## Useful Links:\n",
    "<ul>\n",
    "    <li><a href = \"https://docs.python.org/3/tutorial/errors.html\">Python 3 Errors and Exceptions</a></li>\n",
    "    <li><a href = \"https://rollbar.com/blog/throwing-exceptions-in-python/\">Examples of Errors and Exceptions</a></li>    \n",
    "</ul>"
   ]
  },
  {
   "cell_type": "markdown",
   "metadata": {},
   "source": [
    "## <tt>import</tt> Packages Required for all Problems"
   ]
  },
  {
   "cell_type": "code",
   "execution_count": 1,
   "metadata": {},
   "outputs": [],
   "source": [
    "import matplotlib.pyplot as plt\n",
    "import numpy as np\n",
    "import math"
   ]
  },
  {
   "cell_type": "markdown",
   "metadata": {},
   "source": [
    "## Problem \\#1. Tridiagonal Matrix\n",
    "\n",
    "Write code to create a 2D <tt>NumPy</tt> array of size $n x n$ with 2's along the main diagonal, and -1's along the subdiagonals above and below the main diagonal. "
   ]
  },
  {
   "cell_type": "code",
   "execution_count": 2,
   "metadata": {},
   "outputs": [
    {
     "name": "stdout",
     "output_type": "stream",
     "text": [
      "D =  [[ 2. -1.  0.  0.  0.  0.  0.  0.  0.]\n",
      " [-1.  2. -1.  0.  0.  0.  0.  0.  0.]\n",
      " [ 0. -1.  2. -1.  0.  0.  0.  0.  0.]\n",
      " [ 0.  0. -1.  2. -1.  0.  0.  0.  0.]\n",
      " [ 0.  0.  0. -1.  2. -1.  0.  0.  0.]\n",
      " [ 0.  0.  0.  0. -1.  2. -1.  0.  0.]\n",
      " [ 0.  0.  0.  0.  0. -1.  2. -1.  0.]\n",
      " [ 0.  0.  0.  0.  0.  0. -1.  2. -1.]\n",
      " [ 0.  0.  0.  0.  0.  0.  0. -1.  2.]]\n"
     ]
    }
   ],
   "source": [
    "def tridiag(n):\n",
    "    TD=np.eye(n)\n",
    "    return 2*TD-np.diag(np.ones(n-1),k=1)-np.diag(np.ones(n-1),k=-1)\n",
    "D = tridiag(9)\n",
    "print('D = ',D)"
   ]
  },
  {
   "cell_type": "markdown",
   "metadata": {},
   "source": [
    "## Problem \\#2. Inner Product\n",
    "\n",
    "Write a function <tt>InnerProd(x,y)</tt> that takes as input two 1D <tt>NumPy</tt> arrays $x$ and $y$, checks whether they are the same length, and returns either a message indicating that the dimensions don't agree, or the inner product of $x$ and $y$. Create two 1D <tt>NumPy</tt> arrays of the same length and test your code. Use <tt>NumPy</tt>'s <tt>.dot</tt> procedure to verify the functionality of your code."
   ]
  },
  {
   "cell_type": "code",
   "execution_count": 3,
   "metadata": {
    "scrolled": false
   },
   "outputs": [
    {
     "data": {
      "text/plain": [
       "-4.8"
      ]
     },
     "execution_count": 3,
     "metadata": {},
     "output_type": "execute_result"
    }
   ],
   "source": [
    "def InnerProd(x,y): \n",
    "    m=x.shape[0]\n",
    "    n=y.shape[0]\n",
    "    assert(m==n), \"x and y are not the same length\"\n",
    "    z=0.0\n",
    "    for j in range(0,m):\n",
    "        z += x[j]*y[j]\n",
    "    return z\n",
    "# code to test the function\n",
    "x = np.array([1.,-1.0,4.0,0.3])\n",
    "y = np.array([3.,1.0,-2.0,4.0])\n",
    "\n",
    "np.dot(x,y)\n",
    "    "
   ]
  },
  {
   "cell_type": "markdown",
   "metadata": {},
   "source": [
    "## Problem \\#3. Matrix - Vector Product\n",
    "\n",
    "Write a function <tt>MatVecProd(A,x)</tt> that takes as input the 2D <tt>NumPy</tt> array $A$ and the 1D <tt>NumPy</tt> array $x$, checks whether their product $Ax$ is defined, and returns either a message indicating the product is not defined, or the 1D array $y = Ax$. Create a 1D <tt>NumPy</tt> array of length $n = 12$ and mltiply it by the triagonal matrix created in Problem #1 to test your code. Use <tt>NumPy</tt>'s <tt>.dot</tt> procedure to verify the functionality of your code."
   ]
  },
  {
   "cell_type": "code",
   "execution_count": 4,
   "metadata": {},
   "outputs": [
    {
     "name": "stdout",
     "output_type": "stream",
     "text": [
      "x =  [1. 1. 1. 1. 1.]\n",
      "A =  [[ 2. -1.  0.  0.  0.]\n",
      " [-1.  2. -1.  0.  0.]\n",
      " [ 0. -1.  2. -1.  0.]\n",
      " [ 0.  0. -1.  2. -1.]\n",
      " [ 0.  0.  0. -1.  2.]]\n",
      "y =  [1. 0. 0. 0. 1.]\n",
      "(5, 5)\n",
      "(5,)\n",
      "(5,)\n"
     ]
    }
   ],
   "source": [
    "def MatVecProd(A,x):\n",
    "    m, n = A.shape\n",
    "    q = x.shape[0]\n",
    "    \n",
    "    assert(len(x.shape) == 1), \"x is not one dimensional\"\n",
    "    assert(n == q), \"A and x are not multiplicable\"\n",
    "    \n",
    "    y = np.zeros(m, 'double')\n",
    "    for j in range(0,n):\n",
    "        y += x[j]*A[:,j]\n",
    "    return y\n",
    "\n",
    "# Code to test the function\n",
    "\n",
    "A = 2.0*np.diag(np.ones(5, 'double'))\n",
    "A -= np.diag(np.ones(4), k = 1) + np.diag(np.ones(4), k = -1)\n",
    "x = np.ones(5, 'double')\n",
    "print('x = ', x)\n",
    "\n",
    "y = MatVecProd(A,x)\n",
    "print('A = ', A)\n",
    "print('y = ', y)\n",
    "print(A.shape)\n",
    "print(x.shape)\n",
    "print(y.shape)"
   ]
  },
  {
   "cell_type": "markdown",
   "metadata": {},
   "source": [
    "## Problem \\#4. Matrix - Matrix Product\n",
    "\n",
    "Write a function <tt>MatrixProd(A,B)</tt> that takes as input two 2D <tt>NumPy</tt> arrays $A$ and $B$, checks whether their product $AB$ is defined, and returns either a message indicating the product is not defined, or the 2D array $C = AB$, where the $j^{th}$ column of $C$ is calculated as the Matrix - Vector product $AB_{:,j}$. Find the product of the following matrices:\n",
    "<ol>\n",
    "    <li type = \"a\"> The matrix from Problem #1 with $n = 8$ and its transpose.</li> \n",
    "    <li type = \"a\"> The matrix from Problem #1 with $n = 8$ and a rectangular matrix $B$ of size $m x 12$ that is multiplicable with the matrix from Problem #1 with $B_{i,i} = -1$, $B_{i, i \\pm 1} = 1$, and $B_{i,j} = 0$ if $j \\neq i -1, i, i+1$.</li>\n",
    "</ol>\n",
    "Use <tt>NumPy</tt>'s <tt>.dot</tt> procedure to verify the functionality of your code."
   ]
  },
  {
   "cell_type": "code",
   "execution_count": 5,
   "metadata": {},
   "outputs": [],
   "source": [
    "def MatrixProd(A,B):\n",
    "    \n",
    "    m, n = A.shape\n",
    "    p, q = B.shape\n",
    "    \n",
    "    assert(n == p), \"A and B are not multiplicable\"\n",
    "    \n",
    "    C = np.zeros([m,q], 'double')\n",
    "    for j in range(0,q):\n",
    "        C[:,j] = MatVecProd(A,B[:,j])\n",
    "    \n",
    "    return C\n"
   ]
  },
  {
   "cell_type": "code",
   "execution_count": 6,
   "metadata": {},
   "outputs": [
    {
     "name": "stdout",
     "output_type": "stream",
     "text": [
      "[[ 2. -1.  0.  0.  0.  0.  0.  0.]\n",
      " [-1.  2. -1.  0.  0.  0.  0.  0.]\n",
      " [ 0. -1.  2. -1.  0.  0.  0.  0.]\n",
      " [ 0.  0. -1.  2. -1.  0.  0.  0.]\n",
      " [ 0.  0.  0. -1.  2. -1.  0.  0.]\n",
      " [ 0.  0.  0.  0. -1.  2. -1.  0.]\n",
      " [ 0.  0.  0.  0.  0. -1.  2. -1.]\n",
      " [ 0.  0.  0.  0.  0.  0. -1.  2.]]\n"
     ]
    },
    {
     "ename": "NameError",
     "evalue": "name 'numpy' is not defined",
     "output_type": "error",
     "traceback": [
      "\u001b[0;31m---------------------------------------------------------------------------\u001b[0m",
      "\u001b[0;31mNameError\u001b[0m                                 Traceback (most recent call last)",
      "\u001b[0;32m<ipython-input-6-bc5e5ca605dc>\u001b[0m in \u001b[0;36m<module>\u001b[0;34m\u001b[0m\n\u001b[1;32m      2\u001b[0m \u001b[0mA\u001b[0m\u001b[0;34m=\u001b[0m\u001b[0mTD8\u001b[0m\u001b[0;34m=\u001b[0m\u001b[0mtridiag\u001b[0m\u001b[0;34m(\u001b[0m\u001b[0;36m8\u001b[0m\u001b[0;34m)\u001b[0m\u001b[0;34m\u001b[0m\u001b[0;34m\u001b[0m\u001b[0m\n\u001b[1;32m      3\u001b[0m \u001b[0mB\u001b[0m\u001b[0;34m=\u001b[0m\u001b[0mprint\u001b[0m\u001b[0;34m(\u001b[0m\u001b[0mTD8\u001b[0m\u001b[0;34m.\u001b[0m\u001b[0mT\u001b[0m\u001b[0;34m)\u001b[0m\u001b[0;34m\u001b[0m\u001b[0;34m\u001b[0m\u001b[0m\n\u001b[0;32m----> 4\u001b[0;31m \u001b[0mnumpy\u001b[0m\u001b[0;34m.\u001b[0m\u001b[0mdot\u001b[0m\u001b[0;34m(\u001b[0m\u001b[0mA\u001b[0m\u001b[0;34m,\u001b[0m\u001b[0mB\u001b[0m\u001b[0;34m)\u001b[0m\u001b[0;34m\u001b[0m\u001b[0;34m\u001b[0m\u001b[0m\n\u001b[0m",
      "\u001b[0;31mNameError\u001b[0m: name 'numpy' is not defined"
     ]
    }
   ],
   "source": [
    "#n=8 and its transpose \n",
    "A=TD8=tridiag(8)\n",
    "B=print(TD8.T)\n",
    "numpy.dot(A,B)"
   ]
  },
  {
   "cell_type": "markdown",
   "metadata": {},
   "source": [
    "## Problem \\#5. Outer Product\n",
    "\n",
    "Write a function <tt>OuterProd(x,y)</tt> that takes as input two 1D <tt>NumPy</tt> arrays $x$ and $y$, checks whether they are the same length, and returns either a message indicating that the dimensions don't agree, or the inner product of $x$ and $y$. Create two 1D <tt>NumPy</tt> arrays $x$ and $y$ of the same length and test your code. Use <tt>NumPy</tt>'s <tt>np.outer(x,y)</tt> procedure to verify the functionality of your code."
   ]
  },
  {
   "cell_type": "code",
   "execution_count": 7,
   "metadata": {},
   "outputs": [
    {
     "name": "stdout",
     "output_type": "stream",
     "text": [
      "XY =  [[  4.   6.   2.   8. -10.   4.]\n",
      " [ 10.  15.   5.  20. -25.  10.]\n",
      " [ 14.  21.   7.  28. -35.  14.]\n",
      " [  8.  12.   4.  16. -20.   8.]\n",
      " [-10. -15.  -5. -20.  25. -10.]\n",
      " [  4.   6.   2.   8. -10.   4.]]\n",
      "[[0. 0. 0. 0. 0. 0.]\n",
      " [0. 0. 0. 0. 0. 0.]\n",
      " [0. 0. 0. 0. 0. 0.]\n",
      " [0. 0. 0. 0. 0. 0.]\n",
      " [0. 0. 0. 0. 0. 0.]\n",
      " [0. 0. 0. 0. 0. 0.]]\n"
     ]
    }
   ],
   "source": [
    "def OuterProd(x,y):\n",
    "    m = x.shape[0]\n",
    "    n = y.shape[0]\n",
    "    \n",
    "    assert(m == n), \"x and y are not the same length\" \n",
    "    \n",
    "    XY = np.zeros([n,n],) \n",
    "    for j in range(0, n):\n",
    "        XY[:,j] = y[j]*x\n",
    "    \n",
    "    return XY\n",
    "\n",
    "# Code to test the function\n",
    "\n",
    "x = np.array([2.0, 5.0, 7.0, 4.0, -5.0, 2.0])\n",
    "y = np.array([2.0, 3.0, 1.0, 4.0, -5.0, 2.0])\n",
    "\n",
    "XY = OuterProd(x,y)\n",
    "\n",
    "print('XY = ', XY)\n",
    "print(XY - np.outer(x,y))\n",
    "        \n",
    "        \n",
    "        \n",
    "        "
   ]
  },
  {
   "cell_type": "markdown",
   "metadata": {},
   "source": [
    "## Problem \\#6. Determinants\n",
    "\n",
    "Write a <b>recursive</b> function <tt>Determinant(A)</tt> that takes as input a 2D <tt>NumPy</tt> array $A$, checks whether it is a square array, and returns either a message indicating that the array isn't square, or the determinant of $A$. \n",
    "<ol>\n",
    "    <li type = \"a\"> Find the determinant of the matrix in Problem #1 for $n = 2, 4, 8,$ and $10$. Use Python's <tt>time.time()</tt> function to find the $cpu$ time needed for each $n$. </li>\n",
    "    <li type = \"a\"> How does the cpu time increase as $n$ increases?</li>\n",
    "</ol>\n",
    "Use <tt>NumPy</tt>'s <tt>np.linalg.det(A)</tt> procedure to verify the functionality of your code."
   ]
  },
  {
   "cell_type": "code",
   "execution_count": 8,
   "metadata": {},
   "outputs": [],
   "source": [
    "import time\n",
    "def Determinant(A):\n",
    "    m,n=A.shape\n",
    "    # check it is a square matrix (use assert)\n",
    "    #Base case n=2 (A is n x n)\n",
    "    if n==2:\n",
    "        return A[0,0]*A[1,1]-A[0,1]*A[1,0]\n",
    "\n",
    "    else:#assume we use row 1(index=0)to calculate the determinant\n",
    "       #Det(A)= sum((-1**(j)*A[0,j]*Determinant(M(0,j)),j=1...n-1)\n",
    "       D=0.0\n",
    "    for j in range(0,n): #list of number to n-1 assign j to the first number in the list\n",
    "        M0j=np.zeros([n-1, n-1]) #rows 0 through n-2 of M0j corresonds to rows 1 through n-1 OF A\n",
    "        M0j[0:n-1,0:j] = A[1:n,0:j]\n",
    "        M0j[0:n-1,j:n-1] = A[1:n,j+1:n]\n",
    "        D +=((-1.0)**j)*A[0,j]*Determinant(M0j)\n",
    "    return D\n"
   ]
  },
  {
   "cell_type": "code",
   "execution_count": 9,
   "metadata": {},
   "outputs": [
    {
     "name": "stdout",
     "output_type": "stream",
     "text": [
      "det(TD2) = 3.0 \n",
      "\n",
      "4.440892098500626e-16 \n",
      "\n",
      "time to compute 2x2 determiannt: 0.0009140968322753906 \n",
      "\n"
     ]
    }
   ],
   "source": [
    "#n=2\n",
    "t_start=time.time()\n",
    "TD2 = tridiag(2)\n",
    "D = Determinant(TD2)\n",
    "print('det(TD2) =',D, '\\n')\n",
    "print(D-np.linalg.det(TD2),'\\n')\n",
    "total_time = time.time() - t_start\n",
    "\n",
    "print('time to compute 2x2 determiannt:', total_time, '\\n')\n"
   ]
  },
  {
   "cell_type": "code",
   "execution_count": 21,
   "metadata": {},
   "outputs": [
    {
     "name": "stdout",
     "output_type": "stream",
     "text": [
      "det(TD4) = 5.0 \n",
      "\n",
      "8.881784197001252e-16 \n",
      "\n",
      "time to computer 4x4 determiannt: 0.0012280941009521484 \n",
      "\n"
     ]
    }
   ],
   "source": [
    "#n=4\n",
    "t_start=time.time()\n",
    "TD4 = tridiag(4)\n",
    "D = Determinant(TD4)\n",
    "print('det(TD4) =',D, '\\n')\n",
    "print(D-np.linalg.det(TD4),'\\n')\n",
    "total_time4 = time.time() - t_start\n",
    "\n",
    "print('time to computer 4x4 determiannt:', total_time4, '\\n')\n"
   ]
  },
  {
   "cell_type": "code",
   "execution_count": 22,
   "metadata": {},
   "outputs": [
    {
     "name": "stdout",
     "output_type": "stream",
     "text": [
      "det(TD8) = 9.0 \n",
      "\n",
      "1.7763568394002505e-15 \n",
      "\n",
      "time to computer 8x8 determiannt: 0.0758509635925293 \n",
      "\n"
     ]
    }
   ],
   "source": [
    "#n=8\n",
    "\n",
    "t_start=time.time()\n",
    "TD8 = tridiag(8)\n",
    "D = Determinant(TD8)\n",
    "print('det(TD8) =',D, '\\n')\n",
    "print(D-np.linalg.det(TD8),'\\n')\n",
    "total_time8 = time.time() - t_start\n",
    "\n",
    "print('time to computer 8x8 determiannt:', total_time8, '\\n')\n"
   ]
  },
  {
   "cell_type": "code",
   "execution_count": 23,
   "metadata": {},
   "outputs": [
    {
     "name": "stdout",
     "output_type": "stream",
     "text": [
      "det(TD10) = 11.0 \n",
      "\n",
      "3.552713678800501e-15 \n",
      "\n",
      "time to computer 10x10 determiannt: 6.371206998825073 \n",
      "\n"
     ]
    }
   ],
   "source": [
    "#n=10\n",
    "t_start=time.time()\n",
    "TD10= tridiag(10)\n",
    "D = Determinant(TD10)\n",
    "print('det(TD10) =',D, '\\n')\n",
    "print(D-np.linalg.det(TD10),'\\n')\n",
    "total_time10 = time.time() - t_start\n",
    "\n",
    "print('time to computer 10x10 determiannt:', total_time10, '\\n')\n"
   ]
  }
 ],
 "metadata": {
  "kernelspec": {
   "display_name": "Python 3",
   "language": "python",
   "name": "python3"
  },
  "language_info": {
   "codemirror_mode": {
    "name": "ipython",
    "version": 3
   },
   "file_extension": ".py",
   "mimetype": "text/x-python",
   "name": "python",
   "nbconvert_exporter": "python",
   "pygments_lexer": "ipython3",
   "version": "3.8.8"
  }
 },
 "nbformat": 4,
 "nbformat_minor": 1
}
